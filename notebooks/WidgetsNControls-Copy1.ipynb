{
 "cells": [
  {
   "cell_type": "code",
   "execution_count": 1,
   "metadata": {
    "collapsed": false
   },
   "outputs": [
    {
     "name": "stdout",
     "output_type": "stream",
     "text": [
      "Using matplotlib backend: agg\n",
      "Populating the interactive namespace from numpy and matplotlib\n"
     ]
    }
   ],
   "source": [
    "%pylab\n",
    "%matplotlib inline"
   ]
  },
  {
   "cell_type": "code",
   "execution_count": 2,
   "metadata": {
    "collapsed": false
   },
   "outputs": [],
   "source": [
    "from ipywidgets import widgets\n",
    "from scipy import signal\n",
    "from control.matlab import *"
   ]
  },
  {
   "cell_type": "code",
   "execution_count": 3,
   "metadata": {
    "collapsed": false
   },
   "outputs": [
    {
     "data": {
      "text/plain": [
       "<function __main__.step_widget>"
      ]
     },
     "execution_count": 3,
     "metadata": {},
     "output_type": "execute_result"
    },
    {
     "data": {
      "image/png": "[encoded data removed]",
      "text/plain": [
       "<matplotlib.figure.Figure at 0x7f6a0036b940>"
      ]
     },
     "metadata": {},
     "output_type": "display_data"
    }
   ],
   "source": [
    "def step_widget(K, tau):\n",
    "    sys = signal.lti([K, ], [tau, 1])\n",
    "    T, yout = signal.step(sys)\n",
    "    pyplot.plot(T,yout)\n",
    "widgets.interact(step_widget, K=(1, 10), tau=(1, 10))"
   ]
  },
  {
   "cell_type": "code",
   "execution_count": 15,
   "metadata": {
    "collapsed": false
   },
   "outputs": [
    {
     "name": "stdout",
     "output_type": "stream",
     "text": [
      "1\n",
      "0.3\n",
      "\n",
      "       1\n",
      "---------------\n",
      "s^2 + 0.6 s + 1\n",
      "\n"
     ]
    },
    {
     "data": {
      "image/png": "[encoded data removed]",
      "text/plain": [
       "<matplotlib.figure.Figure at 0x7f69fdf6df28>"
      ]
     },
     "metadata": {},
     "output_type": "display_data"
    }
   ],
   "source": [
    "def step_widget2(w0, zeta):\n",
    "    print(w0)\n",
    "    print(zeta)\n",
    "    sys = signal.lti([w0 **2 , ], [1, 2*zeta*w0, w0])\n",
    "    T, yout = signal.step(sys)\n",
    "    \n",
    "    sys2 = tf([w0 **2 , ], [1, 2*zeta*w0, w0])\n",
    "    print(sys2)\n",
    "    yout2, T2 = step(sys2)\n",
    "\n",
    "    pyplot.plot(T,yout, T2, yout2)\n",
    "widgets.interact(step_widget2, w0=(1, 10), zeta=(0, 2.0, 0.1))"
   ]
  },
  {
   "cell_type": "code",
   "execution_count": null,
   "metadata": {
    "collapsed": true
   },
   "outputs": [],
   "source": []
  }
 ],
 "metadata": {
  "kernelspec": {
   "display_name": "Python 3",
   "language": "python",
   "name": "python3"
  },
  "language_info": {
   "codemirror_mode": {
    "name": "ipython",
    "version": 3
   },
   "file_extension": ".py",
   "mimetype": "text/x-python",
   "name": "python",
   "nbconvert_exporter": "python",
   "pygments_lexer": "ipython3",
   "version": "3.5.2"
  },
  "widgets": {
   "state": {
    "13dc1e42649e442d8734f740788a2a8c": {
     "views": [
      {
       "cell_index": 3
      }
     ]
    },
    "8e43b2a81348449da6768cb87f5f7ca3": {
     "views": [
      {
       "cell_index": 2
      }
     ]
    },
    "dd0f77f9141d44d6bbb769efcd9eeddd": {
     "views": [
      {
       "cell_index": 9
      }
     ]
    }
   },
   "version": "1.2.0"
  }
 },
 "nbformat": 4,
 "nbformat_minor": 1
}
