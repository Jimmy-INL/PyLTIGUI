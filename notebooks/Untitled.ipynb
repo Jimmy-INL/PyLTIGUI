{
 "cells": [
  {
   "cell_type": "code",
   "execution_count": 1,
   "metadata": {
    "collapsed": true
   },
   "outputs": [],
   "source": [
    "from __future__ import division, print_function"
   ]
  },
  {
   "cell_type": "code",
   "execution_count": 2,
   "metadata": {
    "collapsed": true
   },
   "outputs": [],
   "source": [
    "#\n",
    "from pylab import *\n",
    "from scipy import signal\n",
    "%matplotlib inline"
   ]
  },
  {
   "cell_type": "code",
   "execution_count": 9,
   "metadata": {
    "collapsed": true
   },
   "outputs": [],
   "source": [
    "# Duration (s)\n",
    "T=10.0\n",
    "# Sampling Rate (Hz)\n",
    "fs=100 \n",
    "# Period\n",
    "dT=1.0/fs\n",
    "# Time Vector\n",
    "t=arange(0.0,T,dT)\n",
    "# Step Time\n",
    "step_time = 0.5\n",
    "# Input Vector\n",
    "u=where(t>step_time,1,0)#create the step input vector"
   ]
  },
  {
   "cell_type": "code",
   "execution_count": 10,
   "metadata": {
    "collapsed": false
   },
   "outputs": [],
   "source": [
    "# First order \n",
    "K = 1.0\n",
    "tau = 2.0\n",
    "system1 = signal.lti(K, [tau, 1])"
   ]
  },
  {
   "cell_type": "code",
   "execution_count": 11,
   "metadata": {
    "collapsed": false
   },
   "outputs": [],
   "source": [
    "yo=signal.lsim2(system1,u,t)#this line simulates the output of the system based on input u and time t"
   ]
  },
  {
   "cell_type": "code",
   "execution_count": 12,
   "metadata": {
    "collapsed": false
   },
   "outputs": [],
   "source": [
    "t2, yout, xout = signal.lsim(system1,u,t)"
   ]
  },
  {
   "cell_type": "code",
   "execution_count": 13,
   "metadata": {
    "collapsed": false
   },
   "outputs": [],
   "source": [
    "# Make sure that the time vector coming out is the same that went in.\n",
    "np.testing.assert_array_equal(t,t2)"
   ]
  },
  {
   "cell_type": "code",
   "execution_count": 16,
   "metadata": {
    "collapsed": false
   },
   "outputs": [
    {
     "data": {
      "text/plain": [
       "<matplotlib.legend.Legend at 0x7f83b71eee10>"
      ]
     },
     "execution_count": 16,
     "metadata": {},
     "output_type": "execute_result"
    },
    {
     "data": {
      "image/png": "[encoded data removed]",
      "text/plain": [
       "<matplotlib.figure.Figure at 0x7f83b71eeeb8>"
      ]
     },
     "metadata": {},
     "output_type": "display_data"
    }
   ],
   "source": [
    "plot(t,u,t2,yout)\n",
    "legend([\"Step\", \"Response\"])"
   ]
  },
  {
   "cell_type": "code",
   "execution_count": null,
   "metadata": {
    "collapsed": true
   },
   "outputs": [],
   "source": [
    "legend(['input','output'],2)\n",
    "xlabel('Time (sec)')\n",
    "ylabel('Amplitude')\n",
    "title('Step Response')\n",
    "\n",
    "df=1.0/T#(t.max()-t.min())\n",
    "f=arange(0,fs,df)\n",
    "\n",
    "s=2.0j*pi*f\n",
    "\n",
    "#tf=1.0/s\n",
    "\n",
    "N=len(f)\n",
    "\n",
    "def bodeplot(fi,f,tf,clear=True):\n",
    "    figure(fi)\n",
    "    if clear:\n",
    "        clf()\n",
    "    subplot(211)\n",
    "    semilogx(f,20*log10(abs(tf)))\n",
    "    ylabel('Mag. Ratio (dB)')\n",
    "    subplot(212)\n",
    "    semilogx(f,arctan2(imag(tf),real(tf))*180.0/pi)\n",
    "    ylabel('Phase (deg.)')\n",
    "    xlabel('Freq. (Hz)')\n",
    "\n",
    "#################################\n",
    "#\n",
    "#    Swept Sine\n",
    "#\n",
    "#################################\n",
    "def Usweep(ti,minf=0.0,maxf=10.0, maxt=max(t)):\n",
    "    if ti<0.0:\n",
    "        return 0.0\n",
    "    else:\n",
    "        curf=(maxf-minf)*ti/maxt+minf\n",
    "        if ti<(maxt*0.95):\n",
    "            return sin(2*pi*curf*ti)\n",
    "        else:\n",
    "            return 0.0\n",
    "\n",
    "Uchirp=array([Usweep(ti) for ti in t])#this line defins a swept sine input\n",
    "yc=signal.lsim2(mysys,Uchirp,t)#this line calculates the response to the swept sine input\n",
    "Uchirp=squeeze(Uchirp)\n",
    "yco=yc[1]\n",
    "\n",
    "figure(3)\n",
    "clf()\n",
    "subplot(211)\n",
    "plot(t,Uchirp)\n",
    "ylabel('input u(t)')\n",
    "title('Swept Sine Response')\n",
    "subplot(212)\n",
    "plot(t,yco)\n",
    "ylabel('output y(t)')\n",
    "xlabel('Time (sec)')\n",
    "\n",
    "\n",
    "ycfft=fft(yco)*2/N\n",
    "ucfft=fft(Uchirp)*2/N\n",
    "tfc=ycfft/ucfft\n",
    "\n",
    "tfcheck=p/(s+p)\n",
    "\n",
    "bodeplot(4,f,tfc)\n",
    "bodeplot(4,f,tfcheck,clear=False)\n",
    "\n",
    "fN=f[int(N/2)]\n",
    "subplot(211)\n",
    "xlim([0.1,fN])\n",
    "legend(['experiment','model'],3)\n",
    "title('Bode Plot')\n",
    "\n",
    "subplot(212)\n",
    "xlim([0.1,fN])\n",
    "ylim([-100,10])\n",
    "\n",
    "show()"
   ]
  },
  {
   "cell_type": "code",
   "execution_count": null,
   "metadata": {
    "collapsed": true
   },
   "outputs": [],
   "source": []
  }
 ],
 "metadata": {
  "kernelspec": {
   "display_name": "Python 3",
   "language": "python",
   "name": "python3"
  },
  "language_info": {
   "codemirror_mode": {
    "name": "ipython",
    "version": 3
   },
   "file_extension": ".py",
   "mimetype": "text/x-python",
   "name": "python",
   "nbconvert_exporter": "python",
   "pygments_lexer": "ipython3",
   "version": "3.5.2"
  }
 },
 "nbformat": 4,
 "nbformat_minor": 1
}
