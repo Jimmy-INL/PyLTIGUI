{
 "cells": [
  {
   "cell_type": "code",
   "execution_count": 1,
   "metadata": {
    "collapsed": true
   },
   "outputs": [],
   "source": [
    "maze_map = [\n",
    "        [1, 1, 1, 1, 1, 1, 1, 1, 1, 1, 1, 1],\n",
    "        [1, 0, 0, 0, 0, 0, 0, 0, 0, 0, 0, 1],\n",
    "        [1, 0, 1, 1, 1, 1, 1, 1, 0, 1, 1, 1],\n",
    "        [1, 0, 1, 0, 0, 0, 0, 0, 0, 0, 0, 1],\n",
    "        [1, 0, 1, 0, 1, 1, 1, 1, 1, 1, 0, 1],\n",
    "        [1, 0, 1, 0, 1, 0, 0, 0, 0, 0, 0, 1],\n",
    "        [1, 0, 0, 0, 1, 1, 0, 1, 1, 1, 0, 1],\n",
    "        [1, 0, 1, 0, 0, 0, 0, 1, 0, 1, 1, 1],\n",
    "        [1, 0, 1, 1, 0, 1, 0, 0, 0, 0, 0, 1],\n",
    "        [1, 0, 1, 0, 0, 1, 1, 1, 1, 1, 0, 1],\n",
    "        [1, 0, 0, 0, 1, 1, 0, 0, 0, 0, 0, 1],\n",
    "        [1, 1, 1, 1, 1, 1, 1, 1, 1, 1, 1, 1]]"
   ]
  },
  {
   "cell_type": "code",
   "execution_count": 2,
   "metadata": {
    "collapsed": true
   },
   "outputs": [],
   "source": [
    "import numpy as np"
   ]
  },
  {
   "cell_type": "code",
   "execution_count": 24,
   "metadata": {
    "collapsed": false
   },
   "outputs": [],
   "source": [
    "?np.diff"
   ]
  },
  {
   "cell_type": "code",
   "execution_count": 25,
   "metadata": {
    "collapsed": false
   },
   "outputs": [
    {
     "data": {
      "text/plain": [
       "array([[ 0, -1, -1, -1, -1, -1, -1, -1, -1, -1, -1,  0],\n",
       "       [ 0,  0,  1,  1,  1,  1,  1,  1,  0,  1,  1,  0],\n",
       "       [ 0,  0,  0, -1, -1, -1, -1, -1,  0, -1, -1,  0],\n",
       "       [ 0,  0,  0,  0,  1,  1,  1,  1,  1,  1,  0,  0],\n",
       "       [ 0,  0,  0,  0,  0, -1, -1, -1, -1, -1,  0,  0],\n",
       "       [ 0,  0, -1,  0,  0,  1,  0,  1,  1,  1,  0,  0],\n",
       "       [ 0,  0,  1,  0, -1, -1,  0,  0, -1,  0,  1,  0],\n",
       "       [ 0,  0,  0,  1,  0,  1,  0, -1,  0, -1, -1,  0],\n",
       "       [ 0,  0,  0, -1,  0,  0,  1,  1,  1,  1,  0,  0],\n",
       "       [ 0,  0, -1,  0,  1,  0, -1, -1, -1, -1,  0,  0],\n",
       "       [ 0,  1,  1,  1,  0,  0,  1,  1,  1,  1,  1,  0]])"
      ]
     },
     "execution_count": 25,
     "metadata": {},
     "output_type": "execute_result"
    }
   ],
   "source": [
    "np.diff(maze_map, axis=0)"
   ]
  },
  {
   "cell_type": "code",
   "execution_count": 5,
   "metadata": {
    "collapsed": false
   },
   "outputs": [
    {
     "data": {
      "text/plain": [
       "array([[ 0,  0,  0,  0,  0,  0,  0,  0,  0],\n",
       "       [-1,  0,  0,  0,  0,  0,  0,  0,  1],\n",
       "       [-3,  1,  0,  0,  0, -1,  3, -3,  1],\n",
       "       [-4,  3, -1,  0,  0,  0,  0,  0,  1],\n",
       "       [-4,  4, -3,  1,  0,  0,  0, -1,  3],\n",
       "       [-4,  4, -4,  3, -1,  0,  0,  0,  1],\n",
       "       [-1,  1, -2,  0,  3, -3,  1, -1,  3],\n",
       "       [-4,  3, -1,  0,  1, -3,  4, -3,  1],\n",
       "       [-3,  0,  3, -4,  3, -1,  0,  0,  1],\n",
       "       [-4,  3,  0, -2,  1,  0,  0, -1,  3],\n",
       "       [-1,  1, -2,  0,  2, -1,  0,  0,  1],\n",
       "       [ 0,  0,  0,  0,  0,  0,  0,  0,  0]])"
      ]
     },
     "execution_count": 5,
     "metadata": {},
     "output_type": "execute_result"
    }
   ],
   "source": [
    "np.diff(np.diff(np.diff(maze_map)))"
   ]
  },
  {
   "cell_type": "code",
   "execution_count": null,
   "metadata": {
    "collapsed": true
   },
   "outputs": [],
   "source": []
  }
 ],
 "metadata": {
  "kernelspec": {
   "display_name": "Python 3",
   "language": "python",
   "name": "python3"
  },
  "language_info": {
   "codemirror_mode": {
    "name": "ipython",
    "version": 3
   },
   "file_extension": ".py",
   "mimetype": "text/x-python",
   "name": "python",
   "nbconvert_exporter": "python",
   "pygments_lexer": "ipython3",
   "version": "3.5.2"
  }
 },
 "nbformat": 4,
 "nbformat_minor": 1
}
